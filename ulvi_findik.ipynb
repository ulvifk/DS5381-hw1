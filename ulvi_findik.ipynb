{
 "cells": [
  {
   "cell_type": "code",
   "id": "initial_id",
   "metadata": {
    "collapsed": true,
    "ExecuteTime": {
     "end_time": "2024-11-06T15:43:36.718382Z",
     "start_time": "2024-11-06T15:43:35.331182Z"
    }
   },
   "source": [
    "\n",
    "\n",
    "import numpy as np\n",
    "import pandas as pd"
   ],
   "outputs": [],
   "execution_count": 1
  },
  {
   "cell_type": "markdown",
   "id": "9466ff1091bb34a8",
   "metadata": {},
   "source": [
    "# Loading Data"
   ]
  },
  {
   "cell_type": "code",
   "id": "edf0312ce202c56a",
   "metadata": {
    "ExecuteTime": {
     "end_time": "2024-11-06T15:43:36.731884Z",
     "start_time": "2024-11-06T15:43:36.726906Z"
    }
   },
   "source": [
    "df = pd.read_csv('Fish.csv')"
   ],
   "outputs": [],
   "execution_count": 2
  },
  {
   "cell_type": "code",
   "id": "260456eed355ab0e",
   "metadata": {
    "ExecuteTime": {
     "end_time": "2024-11-06T15:43:36.746875Z",
     "start_time": "2024-11-06T15:43:36.743483Z"
    }
   },
   "source": [
    "TARGET_COL = 'Weight'\n",
    "INDEPENDENT_COLS = [col for col in df.columns if col != TARGET_COL]\n",
    "\n",
    "TARGET_COL, INDEPENDENT_COLS"
   ],
   "outputs": [
    {
     "data": {
      "text/plain": [
       "('Weight', ['Species', 'Length1', 'Length2', 'Length3', 'Height', 'Width'])"
      ]
     },
     "execution_count": 3,
     "metadata": {},
     "output_type": "execute_result"
    }
   ],
   "execution_count": 3
  },
  {
   "cell_type": "code",
   "id": "8586f83727332c2e",
   "metadata": {
    "ExecuteTime": {
     "end_time": "2024-11-06T15:43:36.810321Z",
     "start_time": "2024-11-06T15:43:36.805351Z"
    }
   },
   "source": [
    "df.head()"
   ],
   "outputs": [
    {
     "data": {
      "text/plain": [
       "  Species  Weight  Length1  Length2  Length3   Height   Width\n",
       "0   Bream   242.0     23.2     25.4     30.0  11.5200  4.0200\n",
       "1   Bream   290.0     24.0     26.3     31.2  12.4800  4.3056\n",
       "2   Bream   340.0     23.9     26.5     31.1  12.3778  4.6961\n",
       "3   Bream   363.0     26.3     29.0     33.5  12.7300  4.4555\n",
       "4   Bream   430.0     26.5     29.0     34.0  12.4440  5.1340"
      ],
      "text/html": [
       "<div>\n",
       "<style scoped>\n",
       "    .dataframe tbody tr th:only-of-type {\n",
       "        vertical-align: middle;\n",
       "    }\n",
       "\n",
       "    .dataframe tbody tr th {\n",
       "        vertical-align: top;\n",
       "    }\n",
       "\n",
       "    .dataframe thead th {\n",
       "        text-align: right;\n",
       "    }\n",
       "</style>\n",
       "<table border=\"1\" class=\"dataframe\">\n",
       "  <thead>\n",
       "    <tr style=\"text-align: right;\">\n",
       "      <th></th>\n",
       "      <th>Species</th>\n",
       "      <th>Weight</th>\n",
       "      <th>Length1</th>\n",
       "      <th>Length2</th>\n",
       "      <th>Length3</th>\n",
       "      <th>Height</th>\n",
       "      <th>Width</th>\n",
       "    </tr>\n",
       "  </thead>\n",
       "  <tbody>\n",
       "    <tr>\n",
       "      <th>0</th>\n",
       "      <td>Bream</td>\n",
       "      <td>242.0</td>\n",
       "      <td>23.2</td>\n",
       "      <td>25.4</td>\n",
       "      <td>30.0</td>\n",
       "      <td>11.5200</td>\n",
       "      <td>4.0200</td>\n",
       "    </tr>\n",
       "    <tr>\n",
       "      <th>1</th>\n",
       "      <td>Bream</td>\n",
       "      <td>290.0</td>\n",
       "      <td>24.0</td>\n",
       "      <td>26.3</td>\n",
       "      <td>31.2</td>\n",
       "      <td>12.4800</td>\n",
       "      <td>4.3056</td>\n",
       "    </tr>\n",
       "    <tr>\n",
       "      <th>2</th>\n",
       "      <td>Bream</td>\n",
       "      <td>340.0</td>\n",
       "      <td>23.9</td>\n",
       "      <td>26.5</td>\n",
       "      <td>31.1</td>\n",
       "      <td>12.3778</td>\n",
       "      <td>4.6961</td>\n",
       "    </tr>\n",
       "    <tr>\n",
       "      <th>3</th>\n",
       "      <td>Bream</td>\n",
       "      <td>363.0</td>\n",
       "      <td>26.3</td>\n",
       "      <td>29.0</td>\n",
       "      <td>33.5</td>\n",
       "      <td>12.7300</td>\n",
       "      <td>4.4555</td>\n",
       "    </tr>\n",
       "    <tr>\n",
       "      <th>4</th>\n",
       "      <td>Bream</td>\n",
       "      <td>430.0</td>\n",
       "      <td>26.5</td>\n",
       "      <td>29.0</td>\n",
       "      <td>34.0</td>\n",
       "      <td>12.4440</td>\n",
       "      <td>5.1340</td>\n",
       "    </tr>\n",
       "  </tbody>\n",
       "</table>\n",
       "</div>"
      ]
     },
     "execution_count": 4,
     "metadata": {},
     "output_type": "execute_result"
    }
   ],
   "execution_count": 4
  },
  {
   "cell_type": "markdown",
   "id": "bc78339f14633e78",
   "metadata": {},
   "source": [
    "### Adding Random Columns: Rand1 and Rand2\n",
    "Random values are generated using **numpy.random.randint()**."
   ]
  },
  {
   "cell_type": "code",
   "id": "13d33d86fbd29dc3",
   "metadata": {
    "ExecuteTime": {
     "end_time": "2024-11-06T15:43:36.824016Z",
     "start_time": "2024-11-06T15:43:36.821219Z"
    }
   },
   "source": [
    "df[\"Rand1\"] = np.random.uniform(low=10, high=100, size=(df.shape[0],))\n",
    "df[\"Rand2\"] = np.random.randint(low=1, high=7, size=(df.shape[0],))\n",
    "INDEPENDENT_COLS = [col for col in df.columns if col != TARGET_COL]"
   ],
   "outputs": [],
   "execution_count": 5
  },
  {
   "metadata": {
    "ExecuteTime": {
     "end_time": "2024-11-06T15:43:36.883307Z",
     "start_time": "2024-11-06T15:43:36.878117Z"
    }
   },
   "cell_type": "code",
   "source": "df.head()",
   "id": "a92baebe73a30d61",
   "outputs": [
    {
     "data": {
      "text/plain": [
       "  Species  Weight  Length1  Length2  Length3   Height   Width      Rand1  \\\n",
       "0   Bream   242.0     23.2     25.4     30.0  11.5200  4.0200  99.656459   \n",
       "1   Bream   290.0     24.0     26.3     31.2  12.4800  4.3056  66.824549   \n",
       "2   Bream   340.0     23.9     26.5     31.1  12.3778  4.6961  25.374147   \n",
       "3   Bream   363.0     26.3     29.0     33.5  12.7300  4.4555  47.822137   \n",
       "4   Bream   430.0     26.5     29.0     34.0  12.4440  5.1340  70.540042   \n",
       "\n",
       "   Rand2  \n",
       "0      1  \n",
       "1      2  \n",
       "2      1  \n",
       "3      1  \n",
       "4      1  "
      ],
      "text/html": [
       "<div>\n",
       "<style scoped>\n",
       "    .dataframe tbody tr th:only-of-type {\n",
       "        vertical-align: middle;\n",
       "    }\n",
       "\n",
       "    .dataframe tbody tr th {\n",
       "        vertical-align: top;\n",
       "    }\n",
       "\n",
       "    .dataframe thead th {\n",
       "        text-align: right;\n",
       "    }\n",
       "</style>\n",
       "<table border=\"1\" class=\"dataframe\">\n",
       "  <thead>\n",
       "    <tr style=\"text-align: right;\">\n",
       "      <th></th>\n",
       "      <th>Species</th>\n",
       "      <th>Weight</th>\n",
       "      <th>Length1</th>\n",
       "      <th>Length2</th>\n",
       "      <th>Length3</th>\n",
       "      <th>Height</th>\n",
       "      <th>Width</th>\n",
       "      <th>Rand1</th>\n",
       "      <th>Rand2</th>\n",
       "    </tr>\n",
       "  </thead>\n",
       "  <tbody>\n",
       "    <tr>\n",
       "      <th>0</th>\n",
       "      <td>Bream</td>\n",
       "      <td>242.0</td>\n",
       "      <td>23.2</td>\n",
       "      <td>25.4</td>\n",
       "      <td>30.0</td>\n",
       "      <td>11.5200</td>\n",
       "      <td>4.0200</td>\n",
       "      <td>99.656459</td>\n",
       "      <td>1</td>\n",
       "    </tr>\n",
       "    <tr>\n",
       "      <th>1</th>\n",
       "      <td>Bream</td>\n",
       "      <td>290.0</td>\n",
       "      <td>24.0</td>\n",
       "      <td>26.3</td>\n",
       "      <td>31.2</td>\n",
       "      <td>12.4800</td>\n",
       "      <td>4.3056</td>\n",
       "      <td>66.824549</td>\n",
       "      <td>2</td>\n",
       "    </tr>\n",
       "    <tr>\n",
       "      <th>2</th>\n",
       "      <td>Bream</td>\n",
       "      <td>340.0</td>\n",
       "      <td>23.9</td>\n",
       "      <td>26.5</td>\n",
       "      <td>31.1</td>\n",
       "      <td>12.3778</td>\n",
       "      <td>4.6961</td>\n",
       "      <td>25.374147</td>\n",
       "      <td>1</td>\n",
       "    </tr>\n",
       "    <tr>\n",
       "      <th>3</th>\n",
       "      <td>Bream</td>\n",
       "      <td>363.0</td>\n",
       "      <td>26.3</td>\n",
       "      <td>29.0</td>\n",
       "      <td>33.5</td>\n",
       "      <td>12.7300</td>\n",
       "      <td>4.4555</td>\n",
       "      <td>47.822137</td>\n",
       "      <td>1</td>\n",
       "    </tr>\n",
       "    <tr>\n",
       "      <th>4</th>\n",
       "      <td>Bream</td>\n",
       "      <td>430.0</td>\n",
       "      <td>26.5</td>\n",
       "      <td>29.0</td>\n",
       "      <td>34.0</td>\n",
       "      <td>12.4440</td>\n",
       "      <td>5.1340</td>\n",
       "      <td>70.540042</td>\n",
       "      <td>1</td>\n",
       "    </tr>\n",
       "  </tbody>\n",
       "</table>\n",
       "</div>"
      ]
     },
     "execution_count": 6,
     "metadata": {},
     "output_type": "execute_result"
    }
   ],
   "execution_count": 6
  },
  {
   "cell_type": "markdown",
   "id": "166c5ea360f781d6",
   "metadata": {},
   "source": [
    "## Data Preprocessing\n",
    "\n",
    "The Species column is categorical, and before applying any machine learning algorithms, it must be encoded."
   ]
  },
  {
   "cell_type": "code",
   "id": "ce09eb48e1ebdadf",
   "metadata": {
    "ExecuteTime": {
     "end_time": "2024-11-06T15:43:39.155758Z",
     "start_time": "2024-11-06T15:43:36.936772Z"
    }
   },
   "source": [
    "from sklearn.preprocessing import OneHotEncoder\n",
    "\n",
    "encoder = OneHotEncoder(sparse_output=False)\n",
    "encoder.fit(df[['Species']])\n",
    "encoded = pd.DataFrame(encoder.transform(df[['Species']]), columns=encoder.get_feature_names_out(['Species']))"
   ],
   "outputs": [],
   "execution_count": 7
  },
  {
   "cell_type": "code",
   "id": "8d08a6db06699775",
   "metadata": {
    "ExecuteTime": {
     "end_time": "2024-11-06T15:43:39.193433Z",
     "start_time": "2024-11-06T15:43:39.162794Z"
    }
   },
   "source": [
    "df = df.drop(columns=['Species'], axis=1)\n",
    "df = pd.concat([df, encoded], axis=1)\n",
    "INDEPENDENT_COLS = [col for col in df.columns if col != TARGET_COL]"
   ],
   "outputs": [],
   "execution_count": 8
  },
  {
   "cell_type": "markdown",
   "id": "9830a8f9bce43de0",
   "metadata": {},
   "source": [
    "## Helper Function: Training and Model Reporting"
   ]
  },
  {
   "cell_type": "code",
   "id": "510c7496c1b7d3cb",
   "metadata": {
    "ExecuteTime": {
     "end_time": "2024-11-06T15:43:39.767753Z",
     "start_time": "2024-11-06T15:43:39.209186Z"
    }
   },
   "source": [
    "from sklearn.linear_model import LinearRegression\n",
    "\n",
    "\n",
    "def train_report_model(_model, X_train: pd.DataFrame, y_train: pd.Series, params: dict = None):\n",
    "    if params is None:\n",
    "        params = {}\n",
    "\n",
    "    model = _model(**params)\n",
    "    model.fit(X_train, y_train)\n",
    "    _df = pd.DataFrame(data=[[model.intercept_] + list(model.coef_)], columns=['Intercept'] + list(X_train.columns))\n",
    "    print(f\"R2 Score: {model.score(X_train, y_train)}\")\n",
    "    print(_df.iloc[0])"
   ],
   "outputs": [],
   "execution_count": 9
  },
  {
   "cell_type": "code",
   "id": "53013ca72d3ac0ab",
   "metadata": {
    "ExecuteTime": {
     "end_time": "2024-11-06T15:43:39.799587Z",
     "start_time": "2024-11-06T15:43:39.788531Z"
    }
   },
   "source": "train_report_model(_model=LinearRegression, X_train=df[INDEPENDENT_COLS], y_train=df[TARGET_COL])",
   "outputs": [
    {
     "name": "stdout",
     "output_type": "stream",
     "text": [
      "R2 Score: 0.9372844925332875\n",
      "Intercept           -821.342683\n",
      "Length1              -84.128383\n",
      "Length2               84.355121\n",
      "Length3               31.105391\n",
      "Height                 2.877077\n",
      "Width                  5.785822\n",
      "Rand1                 -0.117922\n",
      "Rand2                  7.238685\n",
      "Species_Bream        -88.204998\n",
      "Species_Parkki        63.580506\n",
      "Species_Perch         28.934178\n",
      "Species_Pike        -310.513831\n",
      "Species_Roach         -2.651481\n",
      "Species_Smelt        330.269574\n",
      "Species_Whitefish    -21.413947\n",
      "Name: 0, dtype: float64\n"
     ]
    }
   ],
   "execution_count": 10
  },
  {
   "cell_type": "markdown",
   "id": "a8d0256a934495ec",
   "metadata": {},
   "source": [
    "### Model-2"
   ]
  },
  {
   "cell_type": "code",
   "id": "18f1a9f938bb7356",
   "metadata": {
    "ExecuteTime": {
     "end_time": "2024-11-06T15:43:39.822811Z",
     "start_time": "2024-11-06T15:43:39.818194Z"
    }
   },
   "source": [
    "train_report_model(_model=LinearRegression,\n",
    "                   X_train=df[INDEPENDENT_COLS].drop(columns=[\"Rand1\"]),\n",
    "                   y_train=df[TARGET_COL])"
   ],
   "outputs": [
    {
     "name": "stdout",
     "output_type": "stream",
     "text": [
      "R2 Score: 0.9372197487179094\n",
      "Intercept           -826.538915\n",
      "Length1              -83.726536\n",
      "Length2               84.509103\n",
      "Length3               30.587118\n",
      "Height                 2.944098\n",
      "Width                  5.740785\n",
      "Rand2                  7.184654\n",
      "Species_Bream        -87.392169\n",
      "Species_Parkki        63.146911\n",
      "Species_Perch         27.966599\n",
      "Species_Pike        -311.110736\n",
      "Species_Roach         -2.777298\n",
      "Species_Smelt        329.568928\n",
      "Species_Whitefish    -19.402236\n",
      "Name: 0, dtype: float64\n"
     ]
    }
   ],
   "execution_count": 11
  },
  {
   "cell_type": "markdown",
   "id": "9bb29aec318c5aaf",
   "metadata": {},
   "source": [
    "### Model-3"
   ]
  },
  {
   "metadata": {
    "ExecuteTime": {
     "end_time": "2024-11-06T15:43:39.873399Z",
     "start_time": "2024-11-06T15:43:39.868578Z"
    }
   },
   "cell_type": "code",
   "source": [
    "train_report_model(_model=LinearRegression,\n",
    "                   X_train=df[INDEPENDENT_COLS].drop(columns=[\"Rand1\", \"Rand2\"]),\n",
    "                   y_train=df[TARGET_COL])"
   ],
   "id": "9aabe3fb1608afd8",
   "outputs": [
    {
     "name": "stdout",
     "output_type": "stream",
     "text": [
      "R2 Score: 0.9360849020585845\n",
      "Intercept           -813.013618\n",
      "Length1              -80.302952\n",
      "Length2               79.888631\n",
      "Length3               32.535381\n",
      "Height                 5.250988\n",
      "Width                 -0.515438\n",
      "Species_Bream       -105.318522\n",
      "Species_Parkki        59.404139\n",
      "Species_Perch         32.630388\n",
      "Species_Pike        -313.747879\n",
      "Species_Roach         -2.278567\n",
      "Species_Smelt        340.754796\n",
      "Species_Whitefish    -11.444354\n",
      "Name: 0, dtype: float64\n"
     ]
    }
   ],
   "execution_count": 12
  },
  {
   "cell_type": "markdown",
   "id": "7282cffae9465c5a",
   "metadata": {},
   "source": [
    "### Model-4"
   ]
  },
  {
   "cell_type": "code",
   "id": "c5f6345254a9be61",
   "metadata": {
    "ExecuteTime": {
     "end_time": "2024-11-06T15:43:39.900592Z",
     "start_time": "2024-11-06T15:43:39.894887Z"
    }
   },
   "source": [
    "train_report_model(_model=LinearRegression,\n",
    "                   X_train=df[INDEPENDENT_COLS].iloc[: 2],\n",
    "                   y_train=df[TARGET_COL].iloc[: 2])"
   ],
   "outputs": [
    {
     "name": "stdout",
     "output_type": "stream",
     "text": [
      "R2 Score: 1.0\n",
      "Intercept            263.950200\n",
      "Length1                1.485372\n",
      "Length2                1.305675\n",
      "Length3                1.348357\n",
      "Height                 0.180080\n",
      "Width                  0.048807\n",
      "Rand1                 -1.329386\n",
      "Rand2                  0.185473\n",
      "Species_Bream          0.000000\n",
      "Species_Parkki         0.000000\n",
      "Species_Perch          0.000000\n",
      "Species_Pike           0.000000\n",
      "Species_Roach          0.000000\n",
      "Species_Smelt          0.000000\n",
      "Species_Whitefish      0.000000\n",
      "Name: 0, dtype: float64\n"
     ]
    }
   ],
   "execution_count": 13
  },
  {
   "metadata": {},
   "cell_type": "markdown",
   "source": "",
   "id": "2e565e6796c6ec05"
  },
  {
   "metadata": {},
   "cell_type": "markdown",
   "source": [
    "\n",
    "## Brief Report\n",
    "Excluding *Rand1* and *Rand2* has minimal impact on the R2 score, indicating that these variables contribute little to the model's predictive power. In Model-4, an R2 value of 1 suggests a perfect fit, likely due to the extremely limited training data which points to overfitting. Consequently, Model-4 is expected to exhibit high variance and low bias."
   ],
   "id": "cedaacd94051264a"
  },
  {
   "metadata": {},
   "cell_type": "markdown",
   "source": "# Optimization Task",
   "id": "85447a49c8b2a189"
  },
  {
   "metadata": {
    "ExecuteTime": {
     "end_time": "2024-11-06T15:43:39.915493Z",
     "start_time": "2024-11-06T15:43:39.913329Z"
    }
   },
   "cell_type": "code",
   "source": [
    "import scipy.optimize as opt\n",
    "\n",
    "\n",
    "def regression_function(params: np.array, X: np.ndarray) -> np.array:\n",
    "    return X.dot(params[1:]) + params[0]\n",
    "\n",
    "\n",
    "def loss_function(params: np.array, X: np.ndarray, y: np.array) -> np.float64:\n",
    "    predictions = regression_function(params, X)\n",
    "    return np.square(predictions - y).sum()"
   ],
   "id": "c2d9beb04c26bd9b",
   "outputs": [],
   "execution_count": 14
  },
  {
   "metadata": {
    "ExecuteTime": {
     "end_time": "2024-11-06T15:43:39.930870Z",
     "start_time": "2024-11-06T15:43:39.929087Z"
    }
   },
   "cell_type": "code",
   "source": "params = np.ones((len(INDEPENDENT_COLS) + 1))",
   "id": "71135bc7292d14af",
   "outputs": [],
   "execution_count": 15
  },
  {
   "metadata": {
    "ExecuteTime": {
     "end_time": "2024-11-06T15:43:39.944015Z",
     "start_time": "2024-11-06T15:43:39.941103Z"
    }
   },
   "cell_type": "code",
   "source": "loss_function(params, df[INDEPENDENT_COLS], df[TARGET_COL])",
   "id": "31bd64bb777fbbd3",
   "outputs": [
    {
     "data": {
      "text/plain": [
       "np.float64(25698318.119129784)"
      ]
     },
     "execution_count": 16,
     "metadata": {},
     "output_type": "execute_result"
    }
   ],
   "execution_count": 16
  },
  {
   "metadata": {
    "ExecuteTime": {
     "end_time": "2024-11-06T15:43:40.139128Z",
     "start_time": "2024-11-06T15:43:40.022994Z"
    }
   },
   "cell_type": "code",
   "source": "optimized_params = opt.minimize(loss_function, params, args=(df[INDEPENDENT_COLS], df[TARGET_COL]))",
   "id": "c79f4688d1c5e3e2",
   "outputs": [],
   "execution_count": 17
  },
  {
   "metadata": {
    "ExecuteTime": {
     "end_time": "2024-11-06T15:43:40.151269Z",
     "start_time": "2024-11-06T15:43:40.149463Z"
    }
   },
   "cell_type": "code",
   "source": [
    "for _ in optimized_params.x:\n",
    "    print(_)"
   ],
   "id": "519934e421566eed",
   "outputs": [
    {
     "name": "stdout",
     "output_type": "stream",
     "text": [
      "-719.4098991403183\n",
      "-84.12866535907818\n",
      "84.3562651240242\n",
      "31.104564749479632\n",
      "2.87744932683751\n",
      "5.785195300452773\n",
      "-0.11792117920752919\n",
      "7.238692396533915\n",
      "-190.13782889290508\n",
      "-38.35293358921335\n",
      "-72.99881432725655\n",
      "-412.44608574887025\n",
      "-104.58359433983324\n",
      "228.33695563830258\n",
      "-123.34689819079634\n"
     ]
    }
   ],
   "execution_count": 18
  },
  {
   "metadata": {
    "ExecuteTime": {
     "end_time": "2024-11-06T15:43:40.173382Z",
     "start_time": "2024-11-06T15:43:40.171598Z"
    }
   },
   "cell_type": "code",
   "source": "print(INDEPENDENT_COLS)",
   "id": "374e75987b19f70c",
   "outputs": [
    {
     "name": "stdout",
     "output_type": "stream",
     "text": [
      "['Length1', 'Length2', 'Length3', 'Height', 'Width', 'Rand1', 'Rand2', 'Species_Bream', 'Species_Parkki', 'Species_Perch', 'Species_Pike', 'Species_Roach', 'Species_Smelt', 'Species_Whitefish']\n"
     ]
    }
   ],
   "execution_count": 19
  },
  {
   "metadata": {
    "ExecuteTime": {
     "end_time": "2024-11-06T15:43:40.217505Z",
     "start_time": "2024-11-06T15:43:40.213688Z"
    }
   },
   "cell_type": "code",
   "source": [
    "from sklearn.metrics import r2_score\n",
    "\n",
    "r2_score(df[TARGET_COL], regression_function(optimized_params.x, df[INDEPENDENT_COLS]))"
   ],
   "id": "6c141c8b768e1c53",
   "outputs": [
    {
     "data": {
      "text/plain": [
       "0.9372844925323277"
      ]
     },
     "execution_count": 20,
     "metadata": {},
     "output_type": "execute_result"
    }
   ],
   "execution_count": 20
  },
  {
   "metadata": {},
   "cell_type": "markdown",
   "source": [
    "### Optimization Summary\n",
    "It is important to note that the intercept and coefficients of the encoded species variables differ from those in Model-1, likely due to differences in calculation methods. However, the sum of the intercept and coefficients for each one-hot encoded variable is identical across both models. As a result, the predictions of the two models are equivalent."
   ],
   "id": "c8a9c84ff7307fb1"
  },
  {
   "metadata": {},
   "cell_type": "markdown",
   "source": "# Regularization",
   "id": "35c458afe3ae9328"
  },
  {
   "metadata": {},
   "cell_type": "markdown",
   "source": "### Lasso with Upper Bound Constraint",
   "id": "11d75e613fe54ed"
  },
  {
   "metadata": {
    "ExecuteTime": {
     "end_time": "2024-11-06T15:43:40.235540Z",
     "start_time": "2024-11-06T15:43:40.232913Z"
    }
   },
   "cell_type": "code",
   "source": [
    "def lasso_bound(params: np.array, bound: float):\n",
    "    return bound - np.abs(params[1:]).sum()\n",
    "\n",
    "\n",
    "def test_lasso_bound(bound):\n",
    "    params = np.zeros(len(INDEPENDENT_COLS) + 1)\n",
    "    constrs = (\n",
    "        {\"type\": \"ineq\", \"fun\": lasso_bound, \"args\": (bound,)}\n",
    "    )\n",
    "\n",
    "    optimized_params = opt.minimize(loss_function,\n",
    "                                    params,\n",
    "                                    args=(df[INDEPENDENT_COLS], df[TARGET_COL]),\n",
    "                                    constraints=constrs)\n",
    "\n",
    "    coef_names = [\"Intercept\"] + INDEPENDENT_COLS\n",
    "    for i, _ in enumerate(optimized_params.x):\n",
    "        print(f\"{coef_names[i]}: {_: .4f}\")\n",
    "\n",
    "    r2_score(df[TARGET_COL], regression_function(optimized_params.x, df[INDEPENDENT_COLS]))\n",
    "    print(f\"R2 Score: {r2_score(df[TARGET_COL], regression_function(optimized_params.x, df[INDEPENDENT_COLS]))}\")"
   ],
   "id": "9e4f6a0bd9300520",
   "outputs": [],
   "execution_count": 21
  },
  {
   "metadata": {
    "ExecuteTime": {
     "end_time": "2024-11-06T15:43:40.419045Z",
     "start_time": "2024-11-06T15:43:40.245555Z"
    }
   },
   "cell_type": "code",
   "source": "test_lasso_bound(1000)",
   "id": "fc4c3252ec0e9ef3",
   "outputs": [
    {
     "name": "stdout",
     "output_type": "stream",
     "text": [
      "Intercept: -814.9856\n",
      "Length1: -76.0762\n",
      "Length2:  82.1759\n",
      "Length3:  25.9664\n",
      "Height:  2.3655\n",
      "Width:  6.1159\n",
      "Rand1: -0.1021\n",
      "Rand2:  7.1639\n",
      "Species_Bream: -63.5831\n",
      "Species_Parkki:  69.2014\n",
      "Species_Perch:  29.5192\n",
      "Species_Pike: -307.5523\n",
      "Species_Roach:  2.3466\n",
      "Species_Smelt:  325.1280\n",
      "Species_Whitefish: -2.7035\n",
      "R2 Score: 0.9372100968971661\n"
     ]
    }
   ],
   "execution_count": 22
  },
  {
   "metadata": {
    "ExecuteTime": {
     "end_time": "2024-11-06T15:43:40.604115Z",
     "start_time": "2024-11-06T15:43:40.428409Z"
    }
   },
   "cell_type": "code",
   "source": "test_lasso_bound(100)",
   "id": "294e08dc05eab5d9",
   "outputs": [
    {
     "name": "stdout",
     "output_type": "stream",
     "text": [
      "Intercept: -548.8743\n",
      "Length1:  14.2655\n",
      "Length2:  11.7576\n",
      "Length3: -0.0362\n",
      "Height:  18.8620\n",
      "Width:  7.5482\n",
      "Rand1: -0.0987\n",
      "Rand2:  13.2432\n",
      "Species_Bream: -9.3277\n",
      "Species_Parkki: -0.1134\n",
      "Species_Perch:  0.0549\n",
      "Species_Pike: -11.4312\n",
      "Species_Roach:  0.1209\n",
      "Species_Smelt:  11.8927\n",
      "Species_Whitefish:  1.3203\n",
      "R2 Score: 0.8874998944822203\n"
     ]
    }
   ],
   "execution_count": 23
  },
  {
   "metadata": {
    "ExecuteTime": {
     "end_time": "2024-11-06T15:43:40.797373Z",
     "start_time": "2024-11-06T15:43:40.613521Z"
    }
   },
   "cell_type": "code",
   "source": "test_lasso_bound(40)",
   "id": "40c7b524321d769",
   "outputs": [
    {
     "name": "stdout",
     "output_type": "stream",
     "text": [
      "Intercept: -487.1686\n",
      "Length1:  2.9684\n",
      "Length2:  3.4999\n",
      "Length3:  20.1430\n",
      "Height:  8.0332\n",
      "Width:  1.1152\n",
      "Rand1: -0.0794\n",
      "Rand2:  1.6580\n",
      "Species_Bream: -0.0604\n",
      "Species_Parkki: -0.0087\n",
      "Species_Perch:  1.4782\n",
      "Species_Pike:  0.0336\n",
      "Species_Roach:  0.6623\n",
      "Species_Smelt: -0.0066\n",
      "Species_Whitefish:  0.2532\n",
      "R2 Score: 0.865629375972345\n"
     ]
    }
   ],
   "execution_count": 24
  },
  {
   "metadata": {},
   "cell_type": "markdown",
   "source": [
    "### Notes on regularization with upper bound:\n",
    "With higher upper bounds, the Lasso model behaves similarly to Model-1. However, as the upper bound decreases, the model’s coefficients converge to zero, leading to a reduction in the R2 score.\n",
    "\n",
    "Notably, at lower degrees of regularization, model solely focuses on Length and Weight of the fish. It drops Length1 and Length3 as they are directly correlated with Length2."
   ],
   "id": "811e5d621806d305"
  },
  {
   "metadata": {
    "ExecuteTime": {
     "end_time": "2024-11-06T15:43:40.809219Z",
     "start_time": "2024-11-06T15:43:40.806459Z"
    }
   },
   "cell_type": "code",
   "source": [
    "def lasso_loss(params: np.array, X: np.ndarray, y: np.array, alpha: float) -> np.float64:\n",
    "    return loss_function(params, X, y) + alpha * np.abs(params[1:]).sum()\n",
    "\n",
    "\n",
    "def test_lasso_loss(alpha):\n",
    "    params = np.zeros(len(INDEPENDENT_COLS) + 1)\n",
    "    optimized_params = opt.minimize(lasso_loss,\n",
    "                                    params,\n",
    "                                    args=(df[INDEPENDENT_COLS], df[TARGET_COL], alpha))\n",
    "\n",
    "    coef_names = [\"Intercept\"] + INDEPENDENT_COLS\n",
    "    for i, _ in enumerate(optimized_params.x):\n",
    "        print(f\"{coef_names[i]}: {_: .4f}\")\n",
    "\n",
    "    r2_score(df[TARGET_COL], regression_function(optimized_params.x, df[INDEPENDENT_COLS]))\n",
    "    print(f\"R2 Score: {r2_score(df[TARGET_COL], regression_function(optimized_params.x, df[INDEPENDENT_COLS]))}\")"
   ],
   "id": "d13d35865cd68960",
   "outputs": [],
   "execution_count": 25
  },
  {
   "metadata": {
    "ExecuteTime": {
     "end_time": "2024-11-06T15:43:40.903483Z",
     "start_time": "2024-11-06T15:43:40.820464Z"
    }
   },
   "cell_type": "code",
   "source": "test_lasso_loss(0.0001)",
   "id": "92d5af26db868001",
   "outputs": [
    {
     "name": "stdout",
     "output_type": "stream",
     "text": [
      "Intercept: -717.8178\n",
      "Length1: -84.1286\n",
      "Length2:  84.3550\n",
      "Length3:  31.1058\n",
      "Height:  2.8763\n",
      "Width:  5.7868\n",
      "Rand1: -0.1179\n",
      "Rand2:  7.2387\n",
      "Species_Bream: -191.7276\n",
      "Species_Parkki: -39.9426\n",
      "Species_Perch: -74.5915\n",
      "Species_Pike: -414.0414\n",
      "Species_Roach: -106.1772\n",
      "Species_Smelt:  226.7437\n",
      "Species_Whitefish: -124.9400\n",
      "R2 Score: 0.9372844925315286\n"
     ]
    }
   ],
   "execution_count": 26
  },
  {
   "metadata": {
    "ExecuteTime": {
     "end_time": "2024-11-06T15:43:41.050197Z",
     "start_time": "2024-11-06T15:43:40.919565Z"
    }
   },
   "cell_type": "code",
   "source": "test_lasso_loss(1)",
   "id": "47b7f236bb9f7c35",
   "outputs": [
    {
     "name": "stdout",
     "output_type": "stream",
     "text": [
      "Intercept: -823.6037\n",
      "Length1: -83.9105\n",
      "Length2:  84.3190\n",
      "Length3:  30.9335\n",
      "Height:  2.8846\n",
      "Width:  5.8250\n",
      "Rand1: -0.1177\n",
      "Rand2:  7.2398\n",
      "Species_Bream: -85.0859\n",
      "Species_Parkki:  66.1579\n",
      "Species_Perch:  31.4083\n",
      "Species_Pike: -307.7351\n",
      "Species_Roach:  0.0000\n",
      "Species_Smelt:  332.6263\n",
      "Species_Whitefish: -18.6174\n",
      "R2 Score: 0.9372844515168789\n"
     ]
    }
   ],
   "execution_count": 27
  },
  {
   "metadata": {
    "ExecuteTime": {
     "end_time": "2024-11-06T15:43:41.248014Z",
     "start_time": "2024-11-06T15:43:41.059530Z"
    }
   },
   "cell_type": "code",
   "source": "test_lasso_loss(100)",
   "id": "26b58da231af1c9d",
   "outputs": [
    {
     "name": "stdout",
     "output_type": "stream",
     "text": [
      "Intercept: -785.0376\n",
      "Length1: -63.6655\n",
      "Length2:  82.0372\n",
      "Length3:  13.8685\n",
      "Height:  3.5581\n",
      "Width:  9.9021\n",
      "Rand1: -0.0965\n",
      "Rand2:  7.3577\n",
      "Species_Bream: -39.6035\n",
      "Species_Parkki:  58.6352\n",
      "Species_Perch:  13.0474\n",
      "Species_Pike: -295.8772\n",
      "Species_Roach: -0.0000\n",
      "Species_Smelt:  303.5750\n",
      "Species_Whitefish: -6.9215\n",
      "R2 Score: 0.936902559490131\n"
     ]
    }
   ],
   "execution_count": 28
  },
  {
   "metadata": {
    "ExecuteTime": {
     "end_time": "2024-11-06T15:43:41.673012Z",
     "start_time": "2024-11-06T15:43:41.257318Z"
    }
   },
   "cell_type": "code",
   "source": "test_lasso_loss(1000)",
   "id": "f0623b90ed4e7c62",
   "outputs": [
    {
     "name": "stdout",
     "output_type": "stream",
     "text": [
      "Intercept: -676.0313\n",
      "Length1:  0.0001\n",
      "Length2:  28.9471\n",
      "Length3: -0.0055\n",
      "Height:  11.2022\n",
      "Width:  28.0081\n",
      "Rand1: -0.0825\n",
      "Rand2:  8.6599\n",
      "Species_Bream: -0.0000\n",
      "Species_Parkki:  0.0001\n",
      "Species_Perch: -0.0000\n",
      "Species_Pike: -148.8133\n",
      "Species_Roach: -0.0011\n",
      "Species_Smelt:  212.1972\n",
      "Species_Whitefish:  0.0000\n",
      "R2 Score: 0.9284930287951928\n"
     ]
    }
   ],
   "execution_count": 29
  },
  {
   "metadata": {
    "ExecuteTime": {
     "end_time": "2024-11-06T15:43:42.132042Z",
     "start_time": "2024-11-06T15:43:41.683770Z"
    }
   },
   "cell_type": "code",
   "source": "test_lasso_loss(15000)",
   "id": "b45774d3612ea56a",
   "outputs": [
    {
     "name": "stdout",
     "output_type": "stream",
     "text": [
      "Intercept: -483.1866\n",
      "Length1:  4.8732\n",
      "Length2:  21.5221\n",
      "Length3: -0.0000\n",
      "Height:  16.2139\n",
      "Width: -0.0005\n",
      "Rand1: -0.0590\n",
      "Rand2:  0.0120\n",
      "Species_Bream:  0.0013\n",
      "Species_Parkki: -0.0042\n",
      "Species_Perch:  0.0047\n",
      "Species_Pike:  0.0008\n",
      "Species_Roach: -0.0042\n",
      "Species_Smelt:  0.0012\n",
      "Species_Whitefish: -0.0110\n",
      "R2 Score: 0.874404954360701\n"
     ]
    }
   ],
   "execution_count": 30
  },
  {
   "metadata": {},
   "cell_type": "markdown",
   "source": [
    "### Notes on regularization with Lasso loss:\n",
    "It worked quite similar to previous Lasso Model. As the alpha value increases, the model's coefficients converge to zero, leading to a reduction in the R2 score. At lower alpha values, the model behaves similarly to Model-1.\n",
    "\n",
    "Both Lasso models yielded comparable results, with the estimated parameters being quite similar. The Lagrangian Lasso model, however, has a lower intercept, compensated by a higher coefficient on the 'Height' variable.\n",
    "\n",
    "While we can adjust parameters to achieve similar outcomes using different regularization methods, identical results are not guaranteed. One straightforward scenario where both models yield the same solution is when the Lagrangian multiplier is zero, and the regularization bound is set to a very large value (e.g., 1e10).\n"
   ],
   "id": "f8b7f7221df99290"
  },
  {
   "metadata": {},
   "cell_type": "markdown",
   "source": "# Sklearn Lasso ",
   "id": "834ca79b6b5e2b1a"
  },
  {
   "metadata": {
    "ExecuteTime": {
     "end_time": "2024-11-06T15:43:42.148192Z",
     "start_time": "2024-11-06T15:43:42.141997Z"
    }
   },
   "cell_type": "code",
   "source": [
    "from sklearn.linear_model import Lasso\n",
    "\n",
    "alpha = 15000\n",
    "sklearn_alpha = alpha / (2 * df[INDEPENDENT_COLS].shape[0])\n",
    "train_report_model(_model=Lasso, X_train=df[INDEPENDENT_COLS], y_train=df[TARGET_COL], params={\"alpha\": sklearn_alpha})"
   ],
   "id": "790b71a044eb0432",
   "outputs": [
    {
     "name": "stdout",
     "output_type": "stream",
     "text": [
      "R2 Score: 0.8742777387832947\n",
      "Intercept           -485.822443\n",
      "Length1                1.023183\n",
      "Length2               25.211748\n",
      "Length3                0.000000\n",
      "Height                16.043920\n",
      "Width                  0.000000\n",
      "Rand1                 -0.055302\n",
      "Rand2                  0.000000\n",
      "Species_Bream         -0.000000\n",
      "Species_Parkki        -0.000000\n",
      "Species_Perch          0.000000\n",
      "Species_Pike          -0.000000\n",
      "Species_Roach         -0.000000\n",
      "Species_Smelt          0.000000\n",
      "Species_Whitefish      0.000000\n",
      "Name: 0, dtype: float64\n"
     ]
    }
   ],
   "execution_count": 31
  },
  {
   "metadata": {},
   "cell_type": "markdown",
   "source": [
    "### Sklearn Lasso Summary\n",
    "Sklearn's Lasso implementation normalizes the Squared Error by **(2 * n_samples)**. Therefore, to compansate for the difference in loss function, we need to divide the alpha value by **(2 * n_samples)** to get the same results as our previous Lasso models."
   ],
   "id": "351363c7fcbebaad"
  },
  {
   "metadata": {},
   "cell_type": "markdown",
   "source": "",
   "id": "adb0fb7ca5b21445"
  }
 ],
 "metadata": {
  "kernelspec": {
   "display_name": "Python 3",
   "language": "python",
   "name": "python3"
  },
  "language_info": {
   "codemirror_mode": {
    "name": "ipython",
    "version": 2
   },
   "file_extension": ".py",
   "mimetype": "text/x-python",
   "name": "python",
   "nbconvert_exporter": "python",
   "pygments_lexer": "ipython2",
   "version": "2.7.6"
  }
 },
 "nbformat": 4,
 "nbformat_minor": 5
}
